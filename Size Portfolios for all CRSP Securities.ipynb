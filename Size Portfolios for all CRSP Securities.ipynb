{
 "cells": [
  {
   "cell_type": "markdown",
   "metadata": {},
   "source": [
    "# Size Portfolio for CRSP Securities"
   ]
  },
  {
   "cell_type": "code",
   "execution_count": 2,
   "metadata": {},
   "outputs": [],
   "source": [
    "import pandas as pd \n",
    "import numpy as np\n",
    "import datetime as dt\n",
    "import wrds\n",
    "from dateutil.relativedelta import *"
   ]
  },
  {
   "cell_type": "markdown",
   "metadata": {},
   "source": [
    "## Connect to WRDS "
   ]
  },
  {
   "cell_type": "code",
   "execution_count": 3,
   "metadata": {},
   "outputs": [
    {
     "name": "stdout",
     "output_type": "stream",
     "text": [
      "Loading library list...\n",
      "Done\n"
     ]
    }
   ],
   "source": [
    "conn = wrds.Connection(wrds_username='sevenz')"
   ]
  },
  {
   "cell_type": "markdown",
   "metadata": {},
   "source": [
    "## Get CRSP Monthly Stocks for Decile Formation"
   ]
  },
  {
   "cell_type": "code",
   "execution_count": 4,
   "metadata": {},
   "outputs": [],
   "source": [
    "msf = conn.raw_sql('''\n",
    "                   SELECT a.permno, a.date,\n",
    "                   a.ret, a.shrout, a.prc\n",
    "                   FROM crsp.msf AS a \n",
    "                   WHERE a.date >= '12/01/1999'\n",
    "                   ''', date_cols = ['date'])"
   ]
  },
  {
   "cell_type": "markdown",
   "metadata": {},
   "source": [
    "### variable reference:\n",
    "\n",
    "*permno: unique stock (share class) level identifier*\n",
    "\n",
    "*(permco: unique company level identifier,\n",
    "some company may have more than on class shares)*\n",
    "\n",
    "*prc: Price*\n",
    "\n",
    "*shrout: Number of Shares Outstanding*\n",
    "\n",
    "*ret: Holding Period Return*"
   ]
  },
  {
   "cell_type": "code",
   "execution_count": 5,
   "metadata": {},
   "outputs": [
    {
     "data": {
      "text/html": [
       "<div>\n",
       "<style scoped>\n",
       "    .dataframe tbody tr th:only-of-type {\n",
       "        vertical-align: middle;\n",
       "    }\n",
       "\n",
       "    .dataframe tbody tr th {\n",
       "        vertical-align: top;\n",
       "    }\n",
       "\n",
       "    .dataframe thead th {\n",
       "        text-align: right;\n",
       "    }\n",
       "</style>\n",
       "<table border=\"1\" class=\"dataframe\">\n",
       "  <thead>\n",
       "    <tr style=\"text-align: right;\">\n",
       "      <th></th>\n",
       "      <th>permno</th>\n",
       "      <th>ret</th>\n",
       "      <th>shrout</th>\n",
       "      <th>prc</th>\n",
       "    </tr>\n",
       "  </thead>\n",
       "  <tbody>\n",
       "    <tr>\n",
       "      <th>count</th>\n",
       "      <td>1.741791e+06</td>\n",
       "      <td>1.688500e+06</td>\n",
       "      <td>1.732398e+06</td>\n",
       "      <td>1.698866e+06</td>\n",
       "    </tr>\n",
       "    <tr>\n",
       "      <th>mean</th>\n",
       "      <td>6.711130e+04</td>\n",
       "      <td>8.557388e-03</td>\n",
       "      <td>8.671068e+04</td>\n",
       "      <td>4.592137e+01</td>\n",
       "    </tr>\n",
       "    <tr>\n",
       "      <th>std</th>\n",
       "      <td>2.948650e+04</td>\n",
       "      <td>1.681236e-01</td>\n",
       "      <td>3.469439e+05</td>\n",
       "      <td>1.965336e+03</td>\n",
       "    </tr>\n",
       "    <tr>\n",
       "      <th>min</th>\n",
       "      <td>1.000100e+04</td>\n",
       "      <td>-9.936000e-01</td>\n",
       "      <td>1.000000e+00</td>\n",
       "      <td>-1.457500e+03</td>\n",
       "    </tr>\n",
       "    <tr>\n",
       "      <th>25%</th>\n",
       "      <td>4.700200e+04</td>\n",
       "      <td>-5.192497e-02</td>\n",
       "      <td>8.109000e+03</td>\n",
       "      <td>6.240000e+00</td>\n",
       "    </tr>\n",
       "    <tr>\n",
       "      <th>50%</th>\n",
       "      <td>8.130000e+04</td>\n",
       "      <td>4.533939e-03</td>\n",
       "      <td>2.320800e+04</td>\n",
       "      <td>1.570000e+01</td>\n",
       "    </tr>\n",
       "    <tr>\n",
       "      <th>75%</th>\n",
       "      <td>8.898400e+04</td>\n",
       "      <td>5.685578e-02</td>\n",
       "      <td>5.905800e+04</td>\n",
       "      <td>3.190000e+01</td>\n",
       "    </tr>\n",
       "    <tr>\n",
       "      <th>max</th>\n",
       "      <td>9.343600e+04</td>\n",
       "      <td>1.988359e+01</td>\n",
       "      <td>2.920640e+07</td>\n",
       "      <td>3.395900e+05</td>\n",
       "    </tr>\n",
       "  </tbody>\n",
       "</table>\n",
       "</div>"
      ],
      "text/plain": [
       "             permno           ret        shrout           prc\n",
       "count  1.741791e+06  1.688500e+06  1.732398e+06  1.698866e+06\n",
       "mean   6.711130e+04  8.557388e-03  8.671068e+04  4.592137e+01\n",
       "std    2.948650e+04  1.681236e-01  3.469439e+05  1.965336e+03\n",
       "min    1.000100e+04 -9.936000e-01  1.000000e+00 -1.457500e+03\n",
       "25%    4.700200e+04 -5.192497e-02  8.109000e+03  6.240000e+00\n",
       "50%    8.130000e+04  4.533939e-03  2.320800e+04  1.570000e+01\n",
       "75%    8.898400e+04  5.685578e-02  5.905800e+04  3.190000e+01\n",
       "max    9.343600e+04  1.988359e+01  2.920640e+07  3.395900e+05"
      ]
     },
     "execution_count": 5,
     "metadata": {},
     "output_type": "execute_result"
    }
   ],
   "source": [
    "msf.describe()"
   ]
  },
  {
   "cell_type": "code",
   "execution_count": 7,
   "metadata": {},
   "outputs": [
    {
     "data": {
      "text/html": [
       "<div>\n",
       "<style scoped>\n",
       "    .dataframe tbody tr th:only-of-type {\n",
       "        vertical-align: middle;\n",
       "    }\n",
       "\n",
       "    .dataframe tbody tr th {\n",
       "        vertical-align: top;\n",
       "    }\n",
       "\n",
       "    .dataframe thead th {\n",
       "        text-align: right;\n",
       "    }\n",
       "</style>\n",
       "<table border=\"1\" class=\"dataframe\">\n",
       "  <thead>\n",
       "    <tr style=\"text-align: right;\">\n",
       "      <th></th>\n",
       "      <th>permno</th>\n",
       "      <th>date</th>\n",
       "      <th>ret</th>\n",
       "      <th>shrout</th>\n",
       "      <th>prc</th>\n",
       "    </tr>\n",
       "  </thead>\n",
       "  <tbody>\n",
       "    <tr>\n",
       "      <th>0</th>\n",
       "      <td>10001.0</td>\n",
       "      <td>1999-12-31</td>\n",
       "      <td>-0.004188</td>\n",
       "      <td>2450.0</td>\n",
       "      <td>-8.50000</td>\n",
       "    </tr>\n",
       "    <tr>\n",
       "      <th>1</th>\n",
       "      <td>10001.0</td>\n",
       "      <td>2000-01-31</td>\n",
       "      <td>-0.044118</td>\n",
       "      <td>2450.0</td>\n",
       "      <td>8.12500</td>\n",
       "    </tr>\n",
       "    <tr>\n",
       "      <th>2</th>\n",
       "      <td>10001.0</td>\n",
       "      <td>2000-02-29</td>\n",
       "      <td>0.015385</td>\n",
       "      <td>2450.0</td>\n",
       "      <td>8.25000</td>\n",
       "    </tr>\n",
       "    <tr>\n",
       "      <th>3</th>\n",
       "      <td>10001.0</td>\n",
       "      <td>2000-03-31</td>\n",
       "      <td>-0.015758</td>\n",
       "      <td>2464.0</td>\n",
       "      <td>-8.00000</td>\n",
       "    </tr>\n",
       "    <tr>\n",
       "      <th>4</th>\n",
       "      <td>10001.0</td>\n",
       "      <td>2000-04-28</td>\n",
       "      <td>0.011719</td>\n",
       "      <td>2464.0</td>\n",
       "      <td>-8.09375</td>\n",
       "    </tr>\n",
       "  </tbody>\n",
       "</table>\n",
       "</div>"
      ],
      "text/plain": [
       "    permno       date       ret  shrout      prc\n",
       "0  10001.0 1999-12-31 -0.004188  2450.0 -8.50000\n",
       "1  10001.0 2000-01-31 -0.044118  2450.0  8.12500\n",
       "2  10001.0 2000-02-29  0.015385  2450.0  8.25000\n",
       "3  10001.0 2000-03-31 -0.015758  2464.0 -8.00000\n",
       "4  10001.0 2000-04-28  0.011719  2464.0 -8.09375"
      ]
     },
     "execution_count": 7,
     "metadata": {},
     "output_type": "execute_result"
    }
   ],
   "source": [
    "msf.head()"
   ]
  },
  {
   "cell_type": "markdown",
   "metadata": {},
   "source": [
    "### keep only records with non missing ret prc and shrout value"
   ]
  },
  {
   "cell_type": "code",
   "execution_count": 8,
   "metadata": {},
   "outputs": [
    {
     "data": {
      "text/html": [
       "<div>\n",
       "<style scoped>\n",
       "    .dataframe tbody tr th:only-of-type {\n",
       "        vertical-align: middle;\n",
       "    }\n",
       "\n",
       "    .dataframe tbody tr th {\n",
       "        vertical-align: top;\n",
       "    }\n",
       "\n",
       "    .dataframe thead th {\n",
       "        text-align: right;\n",
       "    }\n",
       "</style>\n",
       "<table border=\"1\" class=\"dataframe\">\n",
       "  <thead>\n",
       "    <tr style=\"text-align: right;\">\n",
       "      <th></th>\n",
       "      <th>permno</th>\n",
       "      <th>ret</th>\n",
       "      <th>shrout</th>\n",
       "      <th>prc</th>\n",
       "    </tr>\n",
       "  </thead>\n",
       "  <tbody>\n",
       "    <tr>\n",
       "      <th>count</th>\n",
       "      <td>1.688500e+06</td>\n",
       "      <td>1.688500e+06</td>\n",
       "      <td>1.688500e+06</td>\n",
       "      <td>1.688500e+06</td>\n",
       "    </tr>\n",
       "    <tr>\n",
       "      <th>mean</th>\n",
       "      <td>6.724082e+04</td>\n",
       "      <td>8.557388e-03</td>\n",
       "      <td>8.803301e+04</td>\n",
       "      <td>4.609401e+01</td>\n",
       "    </tr>\n",
       "    <tr>\n",
       "      <th>std</th>\n",
       "      <td>2.939298e+04</td>\n",
       "      <td>1.681236e-01</td>\n",
       "      <td>3.508013e+05</td>\n",
       "      <td>1.971357e+03</td>\n",
       "    </tr>\n",
       "    <tr>\n",
       "      <th>min</th>\n",
       "      <td>1.000100e+04</td>\n",
       "      <td>-9.936000e-01</td>\n",
       "      <td>1.000000e+00</td>\n",
       "      <td>-1.457500e+03</td>\n",
       "    </tr>\n",
       "    <tr>\n",
       "      <th>25%</th>\n",
       "      <td>4.767700e+04</td>\n",
       "      <td>-5.192497e-02</td>\n",
       "      <td>8.246000e+03</td>\n",
       "      <td>6.230000e+00</td>\n",
       "    </tr>\n",
       "    <tr>\n",
       "      <th>50%</th>\n",
       "      <td>8.150100e+04</td>\n",
       "      <td>4.533939e-03</td>\n",
       "      <td>2.364300e+04</td>\n",
       "      <td>1.570000e+01</td>\n",
       "    </tr>\n",
       "    <tr>\n",
       "      <th>75%</th>\n",
       "      <td>8.900100e+04</td>\n",
       "      <td>5.685578e-02</td>\n",
       "      <td>6.003800e+04</td>\n",
       "      <td>3.197000e+01</td>\n",
       "    </tr>\n",
       "    <tr>\n",
       "      <th>max</th>\n",
       "      <td>9.343600e+04</td>\n",
       "      <td>1.988359e+01</td>\n",
       "      <td>2.920640e+07</td>\n",
       "      <td>3.395900e+05</td>\n",
       "    </tr>\n",
       "  </tbody>\n",
       "</table>\n",
       "</div>"
      ],
      "text/plain": [
       "             permno           ret        shrout           prc\n",
       "count  1.688500e+06  1.688500e+06  1.688500e+06  1.688500e+06\n",
       "mean   6.724082e+04  8.557388e-03  8.803301e+04  4.609401e+01\n",
       "std    2.939298e+04  1.681236e-01  3.508013e+05  1.971357e+03\n",
       "min    1.000100e+04 -9.936000e-01  1.000000e+00 -1.457500e+03\n",
       "25%    4.767700e+04 -5.192497e-02  8.246000e+03  6.230000e+00\n",
       "50%    8.150100e+04  4.533939e-03  2.364300e+04  1.570000e+01\n",
       "75%    8.900100e+04  5.685578e-02  6.003800e+04  3.197000e+01\n",
       "max    9.343600e+04  1.988359e+01  2.920640e+07  3.395900e+05"
      ]
     },
     "execution_count": 8,
     "metadata": {},
     "output_type": "execute_result"
    }
   ],
   "source": [
    "msf = msf[(msf['prc'].notna()) & (msf['ret'].notna()) & (msf['shrout'].notna())]\n",
    "'''#alternatives:\n",
    "msf = msf.dropna(subset = ['prc','ret','shrout'])\n",
    "'''\n",
    "msf.describe()"
   ]
  },
  {
   "cell_type": "code",
   "execution_count": 9,
   "metadata": {},
   "outputs": [
    {
     "data": {
      "text/html": [
       "<div>\n",
       "<style scoped>\n",
       "    .dataframe tbody tr th:only-of-type {\n",
       "        vertical-align: middle;\n",
       "    }\n",
       "\n",
       "    .dataframe tbody tr th {\n",
       "        vertical-align: top;\n",
       "    }\n",
       "\n",
       "    .dataframe thead th {\n",
       "        text-align: right;\n",
       "    }\n",
       "</style>\n",
       "<table border=\"1\" class=\"dataframe\">\n",
       "  <thead>\n",
       "    <tr style=\"text-align: right;\">\n",
       "      <th></th>\n",
       "      <th>permno</th>\n",
       "      <th>date</th>\n",
       "      <th>ret</th>\n",
       "      <th>shrout</th>\n",
       "      <th>prc</th>\n",
       "      <th>size</th>\n",
       "      <th>year</th>\n",
       "      <th>month</th>\n",
       "    </tr>\n",
       "  </thead>\n",
       "  <tbody>\n",
       "    <tr>\n",
       "      <th>0</th>\n",
       "      <td>10001</td>\n",
       "      <td>1999-12-31</td>\n",
       "      <td>-0.004188</td>\n",
       "      <td>2450.0</td>\n",
       "      <td>-8.50000</td>\n",
       "      <td>20825.00</td>\n",
       "      <td>1999</td>\n",
       "      <td>12</td>\n",
       "    </tr>\n",
       "    <tr>\n",
       "      <th>1</th>\n",
       "      <td>10001</td>\n",
       "      <td>2000-01-31</td>\n",
       "      <td>-0.044118</td>\n",
       "      <td>2450.0</td>\n",
       "      <td>8.12500</td>\n",
       "      <td>19906.25</td>\n",
       "      <td>2000</td>\n",
       "      <td>1</td>\n",
       "    </tr>\n",
       "    <tr>\n",
       "      <th>2</th>\n",
       "      <td>10001</td>\n",
       "      <td>2000-02-29</td>\n",
       "      <td>0.015385</td>\n",
       "      <td>2450.0</td>\n",
       "      <td>8.25000</td>\n",
       "      <td>20212.50</td>\n",
       "      <td>2000</td>\n",
       "      <td>2</td>\n",
       "    </tr>\n",
       "    <tr>\n",
       "      <th>3</th>\n",
       "      <td>10001</td>\n",
       "      <td>2000-03-31</td>\n",
       "      <td>-0.015758</td>\n",
       "      <td>2464.0</td>\n",
       "      <td>-8.00000</td>\n",
       "      <td>19712.00</td>\n",
       "      <td>2000</td>\n",
       "      <td>3</td>\n",
       "    </tr>\n",
       "    <tr>\n",
       "      <th>4</th>\n",
       "      <td>10001</td>\n",
       "      <td>2000-04-28</td>\n",
       "      <td>0.011719</td>\n",
       "      <td>2464.0</td>\n",
       "      <td>-8.09375</td>\n",
       "      <td>19943.00</td>\n",
       "      <td>2000</td>\n",
       "      <td>4</td>\n",
       "    </tr>\n",
       "  </tbody>\n",
       "</table>\n",
       "</div>"
      ],
      "text/plain": [
       "   permno       date       ret  shrout      prc      size  year  month\n",
       "0   10001 1999-12-31 -0.004188  2450.0 -8.50000  20825.00  1999     12\n",
       "1   10001 2000-01-31 -0.044118  2450.0  8.12500  19906.25  2000      1\n",
       "2   10001 2000-02-29  0.015385  2450.0  8.25000  20212.50  2000      2\n",
       "3   10001 2000-03-31 -0.015758  2464.0 -8.00000  19712.00  2000      3\n",
       "4   10001 2000-04-28  0.011719  2464.0 -8.09375  19943.00  2000      4"
      ]
     },
     "execution_count": 9,
     "metadata": {},
     "output_type": "execute_result"
    }
   ],
   "source": [
    "msf['permno'] = msf['permno'].astype(int)\n",
    "msf['size'] = msf['shrout'] * msf['prc'].abs()\n",
    "msf['year'] = msf['date'].dt.year\n",
    "msf['month'] = msf['date'].dt.month\n",
    "msf.head()"
   ]
  },
  {
   "cell_type": "markdown",
   "metadata": {},
   "source": [
    "### create msf_dec"
   ]
  },
  {
   "cell_type": "code",
   "execution_count": 10,
   "metadata": {},
   "outputs": [
    {
     "data": {
      "text/html": [
       "<div>\n",
       "<style scoped>\n",
       "    .dataframe tbody tr th:only-of-type {\n",
       "        vertical-align: middle;\n",
       "    }\n",
       "\n",
       "    .dataframe tbody tr th {\n",
       "        vertical-align: top;\n",
       "    }\n",
       "\n",
       "    .dataframe thead th {\n",
       "        text-align: right;\n",
       "    }\n",
       "</style>\n",
       "<table border=\"1\" class=\"dataframe\">\n",
       "  <thead>\n",
       "    <tr style=\"text-align: right;\">\n",
       "      <th></th>\n",
       "      <th>date</th>\n",
       "      <th>permno</th>\n",
       "      <th>year</th>\n",
       "      <th>size</th>\n",
       "    </tr>\n",
       "  </thead>\n",
       "  <tbody>\n",
       "    <tr>\n",
       "      <th>0</th>\n",
       "      <td>1999-12-31</td>\n",
       "      <td>10001</td>\n",
       "      <td>1999</td>\n",
       "      <td>20825.000000</td>\n",
       "    </tr>\n",
       "    <tr>\n",
       "      <th>12</th>\n",
       "      <td>2000-12-29</td>\n",
       "      <td>10001</td>\n",
       "      <td>2000</td>\n",
       "      <td>24355.500000</td>\n",
       "    </tr>\n",
       "    <tr>\n",
       "      <th>24</th>\n",
       "      <td>2001-12-31</td>\n",
       "      <td>10001</td>\n",
       "      <td>2001</td>\n",
       "      <td>29380.699511</td>\n",
       "    </tr>\n",
       "    <tr>\n",
       "      <th>36</th>\n",
       "      <td>2002-12-31</td>\n",
       "      <td>10001</td>\n",
       "      <td>2002</td>\n",
       "      <td>19046.440565</td>\n",
       "    </tr>\n",
       "    <tr>\n",
       "      <th>48</th>\n",
       "      <td>2003-12-31</td>\n",
       "      <td>10001</td>\n",
       "      <td>2003</td>\n",
       "      <td>15446.199505</td>\n",
       "    </tr>\n",
       "  </tbody>\n",
       "</table>\n",
       "</div>"
      ],
      "text/plain": [
       "         date  permno  year          size\n",
       "0  1999-12-31   10001  1999  20825.000000\n",
       "12 2000-12-29   10001  2000  24355.500000\n",
       "24 2001-12-31   10001  2001  29380.699511\n",
       "36 2002-12-31   10001  2002  19046.440565\n",
       "48 2003-12-31   10001  2003  15446.199505"
      ]
     },
     "execution_count": 10,
     "metadata": {},
     "output_type": "execute_result"
    }
   ],
   "source": [
    "msf_dec = msf.query('month == 12')[['date','permno','year','size']]\n",
    "msf_dec.head()"
   ]
  },
  {
   "cell_type": "markdown",
   "metadata": {},
   "source": [
    "### create msf_ls"
   ]
  },
  {
   "cell_type": "code",
   "execution_count": 11,
   "metadata": {},
   "outputs": [
    {
     "data": {
      "text/html": [
       "<div>\n",
       "<style scoped>\n",
       "    .dataframe tbody tr th:only-of-type {\n",
       "        vertical-align: middle;\n",
       "    }\n",
       "\n",
       "    .dataframe tbody tr th {\n",
       "        vertical-align: top;\n",
       "    }\n",
       "\n",
       "    .dataframe thead th {\n",
       "        text-align: right;\n",
       "    }\n",
       "</style>\n",
       "<table border=\"1\" class=\"dataframe\">\n",
       "  <thead>\n",
       "    <tr style=\"text-align: right;\">\n",
       "      <th></th>\n",
       "      <th>permno</th>\n",
       "      <th>date</th>\n",
       "      <th>ret</th>\n",
       "      <th>shrout</th>\n",
       "      <th>prc</th>\n",
       "      <th>size</th>\n",
       "      <th>year</th>\n",
       "      <th>month</th>\n",
       "      <th>year_prev</th>\n",
       "      <th>size_lag</th>\n",
       "    </tr>\n",
       "  </thead>\n",
       "  <tbody>\n",
       "    <tr>\n",
       "      <th>0</th>\n",
       "      <td>10001</td>\n",
       "      <td>1999-12-31</td>\n",
       "      <td>-0.004188</td>\n",
       "      <td>2450.0</td>\n",
       "      <td>-8.50000</td>\n",
       "      <td>20825.00</td>\n",
       "      <td>1999</td>\n",
       "      <td>12</td>\n",
       "      <td>1998</td>\n",
       "      <td>20912.576138</td>\n",
       "    </tr>\n",
       "    <tr>\n",
       "      <th>1</th>\n",
       "      <td>10001</td>\n",
       "      <td>2000-01-31</td>\n",
       "      <td>-0.044118</td>\n",
       "      <td>2450.0</td>\n",
       "      <td>8.12500</td>\n",
       "      <td>19906.25</td>\n",
       "      <td>2000</td>\n",
       "      <td>1</td>\n",
       "      <td>1999</td>\n",
       "      <td>20825.000000</td>\n",
       "    </tr>\n",
       "    <tr>\n",
       "      <th>2</th>\n",
       "      <td>10001</td>\n",
       "      <td>2000-02-29</td>\n",
       "      <td>0.015385</td>\n",
       "      <td>2450.0</td>\n",
       "      <td>8.25000</td>\n",
       "      <td>20212.50</td>\n",
       "      <td>2000</td>\n",
       "      <td>2</td>\n",
       "      <td>1999</td>\n",
       "      <td>19906.250000</td>\n",
       "    </tr>\n",
       "    <tr>\n",
       "      <th>3</th>\n",
       "      <td>10001</td>\n",
       "      <td>2000-03-31</td>\n",
       "      <td>-0.015758</td>\n",
       "      <td>2464.0</td>\n",
       "      <td>-8.00000</td>\n",
       "      <td>19712.00</td>\n",
       "      <td>2000</td>\n",
       "      <td>3</td>\n",
       "      <td>1999</td>\n",
       "      <td>20212.500000</td>\n",
       "    </tr>\n",
       "    <tr>\n",
       "      <th>4</th>\n",
       "      <td>10001</td>\n",
       "      <td>2000-04-28</td>\n",
       "      <td>0.011719</td>\n",
       "      <td>2464.0</td>\n",
       "      <td>-8.09375</td>\n",
       "      <td>19943.00</td>\n",
       "      <td>2000</td>\n",
       "      <td>4</td>\n",
       "      <td>1999</td>\n",
       "      <td>19712.000000</td>\n",
       "    </tr>\n",
       "  </tbody>\n",
       "</table>\n",
       "</div>"
      ],
      "text/plain": [
       "   permno       date       ret  shrout      prc      size  year  month  \\\n",
       "0   10001 1999-12-31 -0.004188  2450.0 -8.50000  20825.00  1999     12   \n",
       "1   10001 2000-01-31 -0.044118  2450.0  8.12500  19906.25  2000      1   \n",
       "2   10001 2000-02-29  0.015385  2450.0  8.25000  20212.50  2000      2   \n",
       "3   10001 2000-03-31 -0.015758  2464.0 -8.00000  19712.00  2000      3   \n",
       "4   10001 2000-04-28  0.011719  2464.0 -8.09375  19943.00  2000      4   \n",
       "\n",
       "   year_prev      size_lag  \n",
       "0       1998  20912.576138  \n",
       "1       1999  20825.000000  \n",
       "2       1999  19906.250000  \n",
       "3       1999  20212.500000  \n",
       "4       1999  19712.000000  "
      ]
     },
     "execution_count": 11,
     "metadata": {},
     "output_type": "execute_result"
    }
   ],
   "source": [
    "msf_ls = msf.sort_values(['permno','date'])\n",
    "msf_ls['year_prev'] = msf_ls['year']-1\n",
    "msf_ls['size_lag'] = msf_ls.groupby('permno')['size'].shift(1)\n",
    "msf_ls['size_lag'] = np.where(msf_ls['size_lag'].isna(),\\\n",
    "                             msf_ls['size']/(1+msf_ls['ret']), msf_ls['size_lag'])\n",
    "'''\n",
    "np.where(condition,x,y):\n",
    "x if condition else y\n",
    "'''\n",
    "msf_ls.head()"
   ]
  },
  {
   "cell_type": "markdown",
   "metadata": {},
   "source": [
    "## Compute Deciles for Each DEC "
   ]
  },
  {
   "cell_type": "code",
   "execution_count": 12,
   "metadata": {},
   "outputs": [
    {
     "data": {
      "text/html": [
       "<div>\n",
       "<style scoped>\n",
       "    .dataframe tbody tr th:only-of-type {\n",
       "        vertical-align: middle;\n",
       "    }\n",
       "\n",
       "    .dataframe tbody tr th {\n",
       "        vertical-align: top;\n",
       "    }\n",
       "\n",
       "    .dataframe thead th {\n",
       "        text-align: right;\n",
       "    }\n",
       "</style>\n",
       "<table border=\"1\" class=\"dataframe\">\n",
       "  <thead>\n",
       "    <tr style=\"text-align: right;\">\n",
       "      <th></th>\n",
       "      <th>date</th>\n",
       "      <th>permno</th>\n",
       "      <th>year</th>\n",
       "      <th>size</th>\n",
       "      <th>decile</th>\n",
       "    </tr>\n",
       "  </thead>\n",
       "  <tbody>\n",
       "    <tr>\n",
       "      <th>0</th>\n",
       "      <td>1999-12-31</td>\n",
       "      <td>10001</td>\n",
       "      <td>1999</td>\n",
       "      <td>20825.000</td>\n",
       "      <td>2.0</td>\n",
       "    </tr>\n",
       "    <tr>\n",
       "      <th>803619</th>\n",
       "      <td>1999-12-31</td>\n",
       "      <td>80001</td>\n",
       "      <td>1999</td>\n",
       "      <td>135171.000</td>\n",
       "      <td>5.0</td>\n",
       "    </tr>\n",
       "    <tr>\n",
       "      <th>803491</th>\n",
       "      <td>1999-12-31</td>\n",
       "      <td>80000</td>\n",
       "      <td>1999</td>\n",
       "      <td>59602.500</td>\n",
       "      <td>4.0</td>\n",
       "    </tr>\n",
       "    <tr>\n",
       "      <th>803325</th>\n",
       "      <td>1999-12-31</td>\n",
       "      <td>79996</td>\n",
       "      <td>1999</td>\n",
       "      <td>3037724.875</td>\n",
       "      <td>10.0</td>\n",
       "    </tr>\n",
       "    <tr>\n",
       "      <th>803211</th>\n",
       "      <td>1999-12-31</td>\n",
       "      <td>79994</td>\n",
       "      <td>1999</td>\n",
       "      <td>7507.500</td>\n",
       "      <td>1.0</td>\n",
       "    </tr>\n",
       "  </tbody>\n",
       "</table>\n",
       "</div>"
      ],
      "text/plain": [
       "             date  permno  year         size  decile\n",
       "0      1999-12-31   10001  1999    20825.000     2.0\n",
       "803619 1999-12-31   80001  1999   135171.000     5.0\n",
       "803491 1999-12-31   80000  1999    59602.500     4.0\n",
       "803325 1999-12-31   79996  1999  3037724.875    10.0\n",
       "803211 1999-12-31   79994  1999     7507.500     1.0"
      ]
     },
     "execution_count": 12,
     "metadata": {},
     "output_type": "execute_result"
    }
   ],
   "source": [
    "msf_dec = msf_dec.sort_values(['year'])\n",
    "msf_dec['decile'] = 1+msf_dec.groupby('year')['size']\\\n",
    ".transform(lambda x: pd.qcut(x, 10, labels=False))\n",
    "msf_dec.head()"
   ]
  },
  {
   "cell_type": "markdown",
   "metadata": {},
   "source": [
    "[*pd.qcut( )*](https://pandas.pydata.org/pandas-docs/stable/reference/api/pandas.qcut.html)"
   ]
  },
  {
   "cell_type": "markdown",
   "metadata": {},
   "source": [
    "## Assign Size Group to All Months"
   ]
  },
  {
   "cell_type": "code",
   "execution_count": 13,
   "metadata": {},
   "outputs": [
    {
     "data": {
      "text/html": [
       "<div>\n",
       "<style scoped>\n",
       "    .dataframe tbody tr th:only-of-type {\n",
       "        vertical-align: middle;\n",
       "    }\n",
       "\n",
       "    .dataframe tbody tr th {\n",
       "        vertical-align: top;\n",
       "    }\n",
       "\n",
       "    .dataframe thead th {\n",
       "        text-align: right;\n",
       "    }\n",
       "</style>\n",
       "<table border=\"1\" class=\"dataframe\">\n",
       "  <thead>\n",
       "    <tr style=\"text-align: right;\">\n",
       "      <th></th>\n",
       "      <th>permno</th>\n",
       "      <th>date</th>\n",
       "      <th>ret</th>\n",
       "      <th>size_lag</th>\n",
       "      <th>year_prev</th>\n",
       "      <th>year</th>\n",
       "      <th>decile</th>\n",
       "    </tr>\n",
       "  </thead>\n",
       "  <tbody>\n",
       "    <tr>\n",
       "      <th>1</th>\n",
       "      <td>10001</td>\n",
       "      <td>2000-01-31</td>\n",
       "      <td>-0.044118</td>\n",
       "      <td>20825.00</td>\n",
       "      <td>1999</td>\n",
       "      <td>1999.0</td>\n",
       "      <td>2.0</td>\n",
       "    </tr>\n",
       "    <tr>\n",
       "      <th>2</th>\n",
       "      <td>10001</td>\n",
       "      <td>2000-02-29</td>\n",
       "      <td>0.015385</td>\n",
       "      <td>19906.25</td>\n",
       "      <td>1999</td>\n",
       "      <td>1999.0</td>\n",
       "      <td>2.0</td>\n",
       "    </tr>\n",
       "    <tr>\n",
       "      <th>3</th>\n",
       "      <td>10001</td>\n",
       "      <td>2000-03-31</td>\n",
       "      <td>-0.015758</td>\n",
       "      <td>20212.50</td>\n",
       "      <td>1999</td>\n",
       "      <td>1999.0</td>\n",
       "      <td>2.0</td>\n",
       "    </tr>\n",
       "    <tr>\n",
       "      <th>4</th>\n",
       "      <td>10001</td>\n",
       "      <td>2000-04-28</td>\n",
       "      <td>0.011719</td>\n",
       "      <td>19712.00</td>\n",
       "      <td>1999</td>\n",
       "      <td>1999.0</td>\n",
       "      <td>2.0</td>\n",
       "    </tr>\n",
       "    <tr>\n",
       "      <th>5</th>\n",
       "      <td>10001</td>\n",
       "      <td>2000-05-31</td>\n",
       "      <td>-0.023166</td>\n",
       "      <td>19943.00</td>\n",
       "      <td>1999</td>\n",
       "      <td>1999.0</td>\n",
       "      <td>2.0</td>\n",
       "    </tr>\n",
       "  </tbody>\n",
       "</table>\n",
       "</div>"
      ],
      "text/plain": [
       "   permno       date       ret  size_lag  year_prev    year  decile\n",
       "1   10001 2000-01-31 -0.044118  20825.00       1999  1999.0     2.0\n",
       "2   10001 2000-02-29  0.015385  19906.25       1999  1999.0     2.0\n",
       "3   10001 2000-03-31 -0.015758  20212.50       1999  1999.0     2.0\n",
       "4   10001 2000-04-28  0.011719  19712.00       1999  1999.0     2.0\n",
       "5   10001 2000-05-31 -0.023166  19943.00       1999  1999.0     2.0"
      ]
     },
     "execution_count": 13,
     "metadata": {},
     "output_type": "execute_result"
    }
   ],
   "source": [
    "msf_groups = pd.merge(msf_ls[['permno','date','ret','size_lag','year_prev']],\\\n",
    "                      msf_dec[['permno','year','decile']],how = 'left', \\\n",
    "                      left_on = ['permno','year_prev'], right_on = ['permno','year'])\n",
    "msf_groups = msf_groups.dropna(subset = ['decile'])\n",
    "msf_groups.head()"
   ]
  },
  {
   "cell_type": "markdown",
   "metadata": {},
   "source": [
    "## Compute Size Weighted Returns"
   ]
  },
  {
   "cell_type": "code",
   "execution_count": 14,
   "metadata": {},
   "outputs": [],
   "source": [
    "msf_groups = msf_groups.sort_values(['decile','date'])"
   ]
  },
  {
   "cell_type": "markdown",
   "metadata": {},
   "source": [
    "### function to calculate value weighted return"
   ]
  },
  {
   "cell_type": "code",
   "execution_count": 15,
   "metadata": {},
   "outputs": [],
   "source": [
    "def wavg(group, avg_name, weight_name):\n",
    "    d = group[avg_name]\n",
    "    w = group[weight_name]\n",
    "    try:\n",
    "        return (d*w).sum()/w.sum()\n",
    "    except ZeroDivisionError:\n",
    "        return np.nan"
   ]
  },
  {
   "cell_type": "markdown",
   "metadata": {},
   "source": [
    "### value-weighted return"
   ]
  },
  {
   "cell_type": "code",
   "execution_count": 18,
   "metadata": {},
   "outputs": [
    {
     "data": {
      "text/html": [
       "<div>\n",
       "<style scoped>\n",
       "    .dataframe tbody tr th:only-of-type {\n",
       "        vertical-align: middle;\n",
       "    }\n",
       "\n",
       "    .dataframe tbody tr th {\n",
       "        vertical-align: top;\n",
       "    }\n",
       "\n",
       "    .dataframe thead th {\n",
       "        text-align: right;\n",
       "    }\n",
       "</style>\n",
       "<table border=\"1\" class=\"dataframe\">\n",
       "  <thead>\n",
       "    <tr style=\"text-align: right;\">\n",
       "      <th></th>\n",
       "      <th>decile</th>\n",
       "      <th>date</th>\n",
       "      <th>vwrt</th>\n",
       "    </tr>\n",
       "  </thead>\n",
       "  <tbody>\n",
       "    <tr>\n",
       "      <th>0</th>\n",
       "      <td>1.0</td>\n",
       "      <td>2000-01-31</td>\n",
       "      <td>0.222626</td>\n",
       "    </tr>\n",
       "    <tr>\n",
       "      <th>1</th>\n",
       "      <td>1.0</td>\n",
       "      <td>2000-02-29</td>\n",
       "      <td>0.246672</td>\n",
       "    </tr>\n",
       "    <tr>\n",
       "      <th>2</th>\n",
       "      <td>1.0</td>\n",
       "      <td>2000-03-31</td>\n",
       "      <td>-0.024419</td>\n",
       "    </tr>\n",
       "    <tr>\n",
       "      <th>3</th>\n",
       "      <td>1.0</td>\n",
       "      <td>2000-04-28</td>\n",
       "      <td>-0.175907</td>\n",
       "    </tr>\n",
       "    <tr>\n",
       "      <th>4</th>\n",
       "      <td>1.0</td>\n",
       "      <td>2000-05-31</td>\n",
       "      <td>-0.093232</td>\n",
       "    </tr>\n",
       "  </tbody>\n",
       "</table>\n",
       "</div>"
      ],
      "text/plain": [
       "   decile       date      vwrt\n",
       "0     1.0 2000-01-31  0.222626\n",
       "1     1.0 2000-02-29  0.246672\n",
       "2     1.0 2000-03-31 -0.024419\n",
       "3     1.0 2000-04-28 -0.175907\n",
       "4     1.0 2000-05-31 -0.093232"
      ]
     },
     "execution_count": 18,
     "metadata": {},
     "output_type": "execute_result"
    }
   ],
   "source": [
    "vwrets = msf_groups.groupby(['decile','date']).apply(wavg, 'ret','size_lag')\\\n",
    ".to_frame().reset_index().rename(columns = {0: 'vwrt'})\n",
    "vwrets.head()"
   ]
  },
  {
   "cell_type": "markdown",
   "metadata": {},
   "source": [
    "## Compare Results with CRSP MSIX"
   ]
  },
  {
   "cell_type": "code",
   "execution_count": 20,
   "metadata": {},
   "outputs": [],
   "source": [
    "msix = conn.raw_sql(\"\"\"\n",
    "                    SELECT caldt, decret1, decret2, decret3, decret4, decret5,\n",
    "                    decret6, decret7, decret8, decret9, decret10\n",
    "                    FROM crsp.msix where caldt >= '12/01/1999'\n",
    "                    \"\"\", date_cols=['caldt'])"
   ]
  },
  {
   "cell_type": "markdown",
   "metadata": {},
   "source": [
    "### transpose msix data"
   ]
  },
  {
   "cell_type": "code",
   "execution_count": 27,
   "metadata": {},
   "outputs": [],
   "source": [
    "msix1 = pd.melt(msix, id_vars = 'caldt',\\\n",
    "               value_vars = ['decret1', 'decret2', 'decret3', 'decret4', 'decret5',\n",
    "                    'decret6', 'decret7', 'decret8', 'decret9', 'decret10'])"
   ]
  },
  {
   "cell_type": "markdown",
   "metadata": {},
   "source": [
    "### extract decile information from decret"
   ]
  },
  {
   "cell_type": "code",
   "execution_count": 28,
   "metadata": {},
   "outputs": [],
   "source": [
    "msix1['decile'] = msix1['variable'].str[6:].astype(int)"
   ]
  },
  {
   "cell_type": "markdown",
   "metadata": {},
   "source": [
    "### rename return column"
   ]
  },
  {
   "cell_type": "code",
   "execution_count": 29,
   "metadata": {},
   "outputs": [],
   "source": [
    "msix1 = msix1.rename(columns={'value':'decret','caldt':'date'})\n",
    "msix1 = msix1.drop(['variable'], axis = 1)\n",
    "\n",
    "decile_returns = pd.merge(vwrets, msix1, how='left', on=['date','decile'])"
   ]
  },
  {
   "cell_type": "markdown",
   "metadata": {},
   "source": [
    "## End of Program"
   ]
  }
 ],
 "metadata": {
  "kernelspec": {
   "display_name": "Python 3",
   "language": "python",
   "name": "python3"
  },
  "language_info": {
   "codemirror_mode": {
    "name": "ipython",
    "version": 3
   },
   "file_extension": ".py",
   "mimetype": "text/x-python",
   "name": "python",
   "nbconvert_exporter": "python",
   "pygments_lexer": "ipython3",
   "version": "3.7.3"
  }
 },
 "nbformat": 4,
 "nbformat_minor": 4
}
